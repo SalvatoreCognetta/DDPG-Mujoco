{
  "nbformat": 4,
  "nbformat_minor": 0,
  "metadata": {
    "orig_nbformat": 2,
    "colab": {
      "name": "ddpg.ipynb",
      "provenance": [],
      "collapsed_sections": []
    },
    "kernelspec": {
      "name": "python3",
      "display_name": "Python 3",
      "language": "python"
    },
    "accelerator": "GPU"
  },
  "cells": [
    {
      "cell_type": "markdown",
      "metadata": {
        "id": "qKvHGTJCe7_3"
      },
      "source": [
        "# Import"
      ]
    },
    {
      "cell_type": "code",
      "metadata": {
        "id": "RVRRUS7Ce8AF"
      },
      "source": [
        "import os\n",
        "import numpy as np\n",
        "import torch\n",
        "import torch.nn as nn\n",
        "import torch.optim as optim\n",
        "import matplotlib.pyplot as plt\n",
        "\n",
        "import gym"
      ],
      "execution_count": 1,
      "outputs": []
    },
    {
      "cell_type": "markdown",
      "metadata": {
        "id": "Q9K-_nwNe8AG"
      },
      "source": [
        "# Actor-Critic networks"
      ]
    },
    {
      "cell_type": "code",
      "metadata": {
        "id": "dMeNFb3pHBbW",
        "colab": {
          "base_uri": "https://localhost:8080/"
        },
        "outputId": "67a3cc9e-2ed9-41e5-fec8-e12ec301633a"
      },
      "source": [
        "# Check if the GPU is available\n",
        "DEVICE = torch.device(\"cuda\" if torch.cuda.is_available() else \"cpu\")\n",
        "print(DEVICE)\n",
        "# Used for initialize final layer weights and biases of actor and critic\n",
        "WEIGHT_FINAL_LAYER = 3e-3\n",
        "BIAS_FINAL_LAYER   = 3e-4"
      ],
      "execution_count": 2,
      "outputs": [
        {
          "output_type": "stream",
          "name": "stdout",
          "text": [
            "cuda\n"
          ]
        }
      ]
    },
    {
      "cell_type": "code",
      "metadata": {
        "id": "PGHyAtEZe8AH"
      },
      "source": [
        "class Actor(nn.Module):\n",
        "  def __init__(self, input_shape, hidden_shape, num_actions, lr, filepath='./actor'):\n",
        "    super(Actor, self).__init__()\n",
        "    self.input_shape = input_shape\n",
        "    self.hidden_shape = hidden_shape\n",
        "    self.num_actions = num_actions\n",
        "    self.filepath = filepath\n",
        "\n",
        "    # Layer 1\n",
        "    self.fc1 = nn.Linear(self.input_shape, hidden_shape[0])\n",
        "    self.bn1 = nn.LayerNorm(hidden_shape[0])\n",
        "    # Layer 2\n",
        "    self.fc2 = nn.Linear(hidden_shape[0], hidden_shape[1])\n",
        "    self.bn2 = nn.LayerNorm(hidden_shape[1])\n",
        "    # Output Layer - mu\n",
        "    self.mu = nn.Linear(hidden_shape[1], num_actions)\n",
        "\n",
        "    self.optimizer = optim.Adam(self.parameters(), lr)\n",
        "    self.to(DEVICE)\n",
        "\n",
        "  def init_weight_bias(self):\n",
        "    # Weights and biases initialization\n",
        "    fan_in_weight_1 = 1/np.sqrt(self.fc1.weight.data.size()[0])\n",
        "    fan_in_bias_1 = 1/np.sqrt(self.fc1.bias.data.size()[0])\n",
        "    nn.init.uniform_(self.fc1.weight, -fan_in_weight_1, fan_in_weight_1)\n",
        "    nn.init.uniform_(self.fc1.bias, -fan_in_bias_1, fan_in_bias_1)\n",
        "\n",
        "    fan_in_weight_2 = 1/np.sqrt(self.fc2.weight.data.size()[0])\n",
        "    fan_in_bias_2 = 1/np.sqrt(self.fc2.bias.data.size()[0])\n",
        "    nn.init.uniform_(self.fc2.weight, -fan_in_weight_2, fan_in_weight_2)\n",
        "    nn.init.uniform_(self.fc2.bias, -fan_in_bias_2, fan_in_bias_2)\n",
        "\n",
        "    nn.init.uniform_(self.mu.weight, -WEIGHT_FINAL_LAYER, WEIGHT_FINAL_LAYER)\n",
        "    nn.init.uniform_(self.mu.bias, -BIAS_FINAL_LAYER, BIAS_FINAL_LAYER)\n",
        "\n",
        "  def forward(self, state):\n",
        "    x = self.fc1(state)\n",
        "    x = self.bn1(x)\n",
        "    x = nn.functional.relu(x)\n",
        "\n",
        "    x = self.fc2(x)\n",
        "    x = self.bn2(x)\n",
        "    x = nn.functional.relu(x)\n",
        "\n",
        "    # Output\n",
        "    mu = torch.tanh(self.mu(x))\n",
        "    return mu\n",
        "\n",
        "  def save_model(self):\n",
        "    torch.save(self.state_dict(), self.filepath)\n",
        "\n",
        "  def load_model(self):\n",
        "    torch.save(self.state_dict(), self.filepath)"
      ],
      "execution_count": 3,
      "outputs": []
    },
    {
      "cell_type": "code",
      "metadata": {
        "id": "d4x30Uyf6Qmg"
      },
      "source": [
        "class Critic(nn.Module):\n",
        "  def __init__(self, input_shape, hidden_shape, num_actions, lr, l2, filepath='./critic'):\n",
        "    super(Critic, self).__init__()\n",
        "    self.input_shape = input_shape\n",
        "    self.hidden_shape = hidden_shape\n",
        "    self.num_actions = num_actions\n",
        "    self.filepath = filepath\n",
        "\n",
        "    # Layer 1\n",
        "    self.fc1 = nn.Linear(self.input_shape, self.hidden_shape[0])\n",
        "    self.bn1 = nn.LayerNorm(self.hidden_shape[0])\n",
        "    # Layer 2\n",
        "    self.fc2 = nn.Linear(self.hidden_shape[0] + num_actions, self.hidden_shape[1])\n",
        "    self.bn2 = nn.LayerNorm(self.hidden_shape[1])\n",
        "    # Output layer - Q\n",
        "    self.Q = nn.Linear(self.hidden_shape[1], 1)\n",
        "\n",
        "    self.optimizer = optim.Adam(self.parameters(), lr, weight_decay=l2)\n",
        "    self.to(DEVICE)\n",
        "\n",
        "  def init_weight_bias(self):\n",
        "    # Weights and biases initialization\n",
        "    fan_in_weight_1 = 1/np.sqrt(self.fc1.weight.data.size()[0])\n",
        "    fan_in_bias_1 = 1/np.sqrt(self.fc1.bias.data.size()[0])\n",
        "    nn.init.uniform_(self.fc1.weight, -fan_in_weight_1, fan_in_weight_1)\n",
        "    nn.init.uniform_(self.fc1.bias, -fan_in_bias_1, fan_in_bias_1)\n",
        "\n",
        "    fan_in_weight_2 = 1/np.sqrt(self.fc2.weight.data.size()[0])\n",
        "    fan_in_bias_2 = 1/np.sqrt(self.fc2.bias.data.size()[0])\n",
        "    nn.init.uniform_(self.fc2.weight, -fan_in_weight_2, fan_in_weight_2)\n",
        "    nn.init.uniform_(self.fc2.bias, -fan_in_bias_2, fan_in_bias_2)\n",
        "\n",
        "    nn.init.uniform_(self.Q.weight, -WEIGHT_FINAL_LAYER, WEIGHT_FINAL_LAYER)\n",
        "    nn.init.uniform_(self.Q.bias, -BIAS_FINAL_LAYER, BIAS_FINAL_LAYER)\n",
        "\n",
        "  def forward(self, state, actions):\n",
        "    x = self.fc1(state)\n",
        "    x = self.bn1(x)\n",
        "    x = nn.functional.relu(x)\n",
        "\n",
        "    x = torch.cat((x, actions), 1)\n",
        "    x = self.fc2(x)\n",
        "    x = self.bn2(x)\n",
        "    x = nn.functional.relu(x)\n",
        "\n",
        "    # Output\n",
        "    output = self.Q(x)\n",
        "    return output\n",
        "\n",
        "  def save_model(self):\n",
        "    torch.save(self.state_dict(), self.filepath)\n",
        "\n",
        "  def load_model(self):\n",
        "    torch.save(self.state_dict(), self.filepath)\n"
      ],
      "execution_count": 4,
      "outputs": []
    },
    {
      "cell_type": "markdown",
      "metadata": {
        "id": "Q8RcQroLodrG"
      },
      "source": [
        "# Ornstein-Uhlenbeck noise"
      ]
    },
    {
      "cell_type": "code",
      "metadata": {
        "id": "h8nj3SuVodGw"
      },
      "source": [
        "class OUNoise(object):\n",
        "  def __init__(self, mu, sigma=0.2, theta=.15, dt=1e-2, x0=None):\n",
        "    self.theta = theta\n",
        "    self.mu = mu\n",
        "    self.sigma = sigma\n",
        "    self.dt = dt\n",
        "    self.x0 = x0\n",
        "    self.reset()\n",
        "\n",
        "  def __call__(self):\n",
        "    x = self.x_prev + self.theta * (self.mu - self.x_prev) * self.dt + \\\n",
        "        self.sigma * np.sqrt(self.dt) * np.random.normal(size=self.mu.shape)\n",
        "    self.x_prev = x\n",
        "    return x\n",
        "\n",
        "  def reset(self):\n",
        "    self.x_prev = self.x0 if self.x0 is not None else np.zeros_like(self.mu)\n",
        "\n",
        "  def __repr__(self):\n",
        "    return 'OrnsteinUhlenbeckNoise(mu={}, sigma={})'.format(self.mu, self.sigma)\n"
      ],
      "execution_count": 5,
      "outputs": []
    },
    {
      "cell_type": "markdown",
      "metadata": {
        "id": "2N1p95eYygVD"
      },
      "source": [
        "# Replay Buffer"
      ]
    },
    {
      "cell_type": "code",
      "metadata": {
        "id": "tds2E72gyiVV"
      },
      "source": [
        "class ReplayBuffer(object):\n",
        "  def __init__(self, max_size, input_shape, num_actions):\n",
        "    self.mem_size = max_size\n",
        "    self.mem_cntr = 0\n",
        "    self.state_mem = np.zeros((self.mem_size, input_shape)) \n",
        "    self.new_state_mem = np.zeros((self.mem_size, input_shape))\n",
        "    self.action_mem = np.zeros((self.mem_size, num_actions))\n",
        "    self.reward_mem = np.zeros(self.mem_size)\n",
        "    self.terminal_mem = np.zeros(self.mem_size)\n",
        "\n",
        "  def store_transition(self, state, action, reward, state_, done):\n",
        "    index = self.mem_cntr % self.mem_size #first available position\n",
        "    self.state_mem[index] = state\n",
        "    self.new_state_mem[index] = state_\n",
        "    self.reward_mem[index] = reward\n",
        "    self.action_mem[index] = action\n",
        "    self.terminal_mem[index] = 1 - int(done)\n",
        "    self.mem_cntr += 1\n",
        "\n",
        "  def sample_buffer(self, batch_size):\n",
        "    max_mem = min(self.mem_cntr, self.mem_size)\n",
        "    batch = np.random.choice(max_mem, batch_size)\n",
        "\n",
        "    states = self.state_mem[batch]\n",
        "    new_states = self.new_state_mem[batch]\n",
        "    actions = self.action_mem[batch]\n",
        "    rewards = self.reward_mem[batch]\n",
        "    terminal = self.terminal_mem[batch]\n",
        "\n",
        "    return states, actions, rewards, new_states, terminal"
      ],
      "execution_count": 6,
      "outputs": []
    },
    {
      "cell_type": "markdown",
      "metadata": {
        "id": "ssDCIGuzdcvd"
      },
      "source": [
        "# DDPG"
      ]
    },
    {
      "cell_type": "code",
      "metadata": {
        "id": "dDguzUKydeTb"
      },
      "source": [
        "class DDPG(object):\n",
        "  def __init__(self, input_shape, num_actions, action_space,lr_actor=1e-4, lr_critic=1e-3, l2_critic=1e-2, \n",
        "               gamma=0.99, tau=1e-3, hidden_shape=([400,300]), batch_size=64, rbuffer_size=10**6):\n",
        "    self.gamma = gamma\n",
        "    self.tau = tau\n",
        "    self.input_shape = input_shape\n",
        "    self.batch_size = batch_size\n",
        "    self.action_space = action_space\n",
        "\n",
        "    # Intialize critic network Q(s,a|theta^Q) and target network Q'\n",
        "    self.critic = Critic(self.input_shape, hidden_shape, num_actions, lr_critic, l2_critic)\n",
        "    self.critic_target = Critic(self.input_shape, hidden_shape, num_actions, lr_critic, l2_critic)\n",
        "    \n",
        "    # Intialize actor network mu(s|theta^mu) and target network mu'\n",
        "    self.actor = Actor(self.input_shape, hidden_shape, num_actions, lr_actor)\n",
        "    self.actor_target = Actor(self.input_shape, hidden_shape, num_actions, lr_actor)\n",
        "\n",
        "    # Make sure targets have the same weight\n",
        "    self.update_target_params(self.critic, self.critic_target, 1)\n",
        "    self.update_target_params(self.actor, self.actor_target, 1)\n",
        "\n",
        "    # Initialize replay buffer\n",
        "    self.replay_buffer = ReplayBuffer(rbuffer_size, input_shape, num_actions)\n",
        "\n",
        "    self.noise = OUNoise(mu=np.zeros(num_actions))\n",
        "\n",
        "\n",
        "  def select_action(self, observation):\n",
        "    # evaluate the model (turn off batch norm)\n",
        "    self.actor.eval()\n",
        "\n",
        "    observation = torch.tensor(observation, dtype=torch.float).to(DEVICE)\n",
        "    mu = self.actor(observation).to(DEVICE)\n",
        "    mu_prime = mu + torch.tensor(self.noise(), dtype=torch.float).to(DEVICE)\n",
        "\n",
        "    # Clip the output according to the action space of the env\n",
        "    mu_prime = mu_prime.clamp(self.action_space.low[0], self.action_space.high[0])\n",
        "    self.actor.train()\n",
        "\n",
        "    return mu_prime.cpu().detach().numpy() # We cannot pass a tensor to openai gym\n",
        "\n",
        "\n",
        "  def save_transition(self, state, action, reward, new_state, done):\n",
        "    self.replay_buffer.store_transition(state, action, reward, new_state, done)\n",
        "\n",
        "\n",
        "  def learn(self):\n",
        "    if self.replay_buffer.mem_cntr < self.batch_size: \n",
        "      return\n",
        "    # Sample random minibatch of N=batch_size transitions (s_i, a_i, r_i, s_(i+1)) from the replay buffer\n",
        "    state, action, reward, new_state, done = self.replay_buffer.sample_buffer(self.batch_size)\n",
        "\n",
        "    state = torch.tensor(state, dtype=torch.float).to(DEVICE)\n",
        "    action = torch.tensor(action, dtype=torch.float).to(DEVICE)\n",
        "    reward = torch.tensor(reward, dtype=torch.float).to(DEVICE)\n",
        "    new_state = torch.tensor(new_state, dtype=torch.float).to(DEVICE)\n",
        "    done = torch.tensor(done, dtype=torch.float).to(DEVICE)\n",
        "\n",
        "    self.nn_eval()\n",
        "\n",
        "    # Compute mu'(s_(i+1)|theta^mu')\n",
        "    mu_prime = self.actor_target(new_state)\n",
        "    # Compute Q'(s_(i+1),mu'(s_(i+1)|theta^mu')|theta^Q')\n",
        "    Q_prime = self.critic_target(new_state, mu_prime)\n",
        "\n",
        "    # Set y_i = r_i + gamma*Q'(s_(i+1),mu'(s_(i+1)|theta^mu')|theta^Q')\n",
        "    y = []\n",
        "    for i in range(self.batch_size):\n",
        "      y.append(reward[i] + self.gamma*Q_prime[i] * done[i]) # We don't keep new rewarding after terminal state\n",
        "    target = torch.tensor(y).to(DEVICE)\n",
        "    target = target.view(self.batch_size, 1) # Reshape the tensor\n",
        "\n",
        "    # Update the critic by minimizing the loss\n",
        "    self.critic.train()\n",
        "    self.critic.optimizer.zero_grad() # zero_grad clears old gradients from the last step\n",
        "    Q = self.critic(state, action) # Compute Q(s_i,a_i|theta^Q)\n",
        "    value_loss = nn.functional.mse_loss(target, Q) # L\n",
        "    value_loss.backward() # computes the derivative of the loss wrt the parameters using backpropagation\n",
        "    self.critic.optimizer.step() # causes the optimizer to take a step based on the gradients of the parameters\n",
        "\n",
        "    # Update the actor policy using the sampled policy gradient\n",
        "    self.critic.eval()\n",
        "    self.actor.optimizer.zero_grad()\n",
        "    mu = self.actor(state)\n",
        "    self.actor.train()\n",
        "    policy_loss = -self.critic(state, mu)\n",
        "    policy_loss = torch.mean(policy_loss)\n",
        "    policy_loss.backward()\n",
        "    self.actor.optimizer.step()\n",
        "\n",
        "    self.update_target_params(self.critic, self.critic_target)\n",
        "    self.update_target_params(self.actor, self.actor_target)\n",
        "\n",
        "  def update_target_params(self, source, target, tau=None):\n",
        "    if tau == None:\n",
        "      # Perform soft update, otherwise hard update\n",
        "      tau = self.tau\n",
        "    for target_param, param in zip(target.parameters(), source.parameters()):\n",
        "      target_param.data.copy_(param.data*tau + (1-tau)*target_param.data)\n",
        "\n",
        "  def nn_eval(self):\n",
        "    self.critic.eval()\n",
        "    self.critic_target.eval()\n",
        "    self.actor.eval()\n",
        "    self.actor_target.eval()\n",
        "    \n",
        "  def save_models(self):\n",
        "    self.actor.save_model()\n",
        "    self.target_actor.save_model()\n",
        "    self.critic.save_model()\n",
        "    self.target_critic.save_model()\n",
        "\n",
        "  def load_models(self):\n",
        "    self.actor.load_model()\n",
        "    self.target_actor.load_model()\n",
        "    self.critic.load_model()\n",
        "    self.target_critic.load_model()\n"
      ],
      "execution_count": 7,
      "outputs": []
    },
    {
      "cell_type": "markdown",
      "metadata": {
        "id": "4w-D25QnS6qB"
      },
      "source": [
        "# Train"
      ]
    },
    {
      "cell_type": "code",
      "execution_count": 8,
      "metadata": {},
      "outputs": [],
      "source": [
        "MAX_EPISODES = 200\n",
        "MAX_TIMESTEPS = 50\n",
        "NUM_UPDATES = 20\n",
        "RENDER = True"
      ]
    },
    {
      "cell_type": "code",
      "execution_count": 9,
      "metadata": {},
      "outputs": [],
      "source": [
        "def plotLearning(scores, filename, x=None, window=5):   \n",
        "    N = len(scores)\n",
        "    running_avg = np.empty(N)\n",
        "    for t in range(N):\n",
        "\t    running_avg[t] = np.mean(scores[max(0, t-window):(t+1)])\n",
        "    if x is None:\n",
        "        x = [i for i in range(N)]\n",
        "    plt.ylabel('Score')       \n",
        "    plt.xlabel('Game')                     \n",
        "    plt.plot(x, running_avg)\n",
        "    plt.savefig(filename)"
      ]
    },
    {
      "cell_type": "code",
      "metadata": {
        "colab": {
          "base_uri": "https://localhost:8080/",
          "height": 459
        },
        "id": "-SwW338Zeg8k",
        "outputId": "4ec2b316-253c-4d42-e477-6aeafd6a1d64"
      },
      "source": [
        "env = gym.make('FetchPickAndPlace-v1')\n",
        "env.reset()\n",
        "\n",
        "input_shape = env.observation_space['observation'].shape[0]\n",
        "num_actions = env.action_space.shape[0]\n",
        "agent = DDPG(input_shape, num_actions, env.action_space)\n",
        "\n",
        "print(env.reset())"
      ],
      "execution_count": 10,
      "outputs": [
        {
          "output_type": "error",
          "ename": "Exception",
          "evalue": "\nMissing path to your environment variable. \nCurrent values LD_LIBRARY_PATH=\nPlease add following line to .bashrc:\nexport LD_LIBRARY_PATH=$LD_LIBRARY_PATH:/home/salvatore/.mujoco/mujoco200/bin",
          "traceback": [
            "\u001b[0;31m---------------------------------------------------------------------------\u001b[0m",
            "\u001b[0;31mException\u001b[0m                                 Traceback (most recent call last)",
            "\u001b[0;32m<ipython-input-10-b5d548e62763>\u001b[0m in \u001b[0;36m<module>\u001b[0;34m\u001b[0m\n\u001b[0;32m----> 1\u001b[0;31m \u001b[0menv\u001b[0m \u001b[0;34m=\u001b[0m \u001b[0mgym\u001b[0m\u001b[0;34m.\u001b[0m\u001b[0mmake\u001b[0m\u001b[0;34m(\u001b[0m\u001b[0;34m'FetchPickAndPlace-v1'\u001b[0m\u001b[0;34m)\u001b[0m\u001b[0;34m\u001b[0m\u001b[0;34m\u001b[0m\u001b[0m\n\u001b[0m\u001b[1;32m      2\u001b[0m \u001b[0menv\u001b[0m\u001b[0;34m.\u001b[0m\u001b[0mreset\u001b[0m\u001b[0;34m(\u001b[0m\u001b[0;34m)\u001b[0m\u001b[0;34m\u001b[0m\u001b[0;34m\u001b[0m\u001b[0m\n\u001b[1;32m      3\u001b[0m \u001b[0;34m\u001b[0m\u001b[0m\n\u001b[1;32m      4\u001b[0m \u001b[0minput_shape\u001b[0m \u001b[0;34m=\u001b[0m \u001b[0menv\u001b[0m\u001b[0;34m.\u001b[0m\u001b[0mobservation_space\u001b[0m\u001b[0;34m[\u001b[0m\u001b[0;34m'observation'\u001b[0m\u001b[0;34m]\u001b[0m\u001b[0;34m.\u001b[0m\u001b[0mshape\u001b[0m\u001b[0;34m[\u001b[0m\u001b[0;36m0\u001b[0m\u001b[0;34m]\u001b[0m\u001b[0;34m\u001b[0m\u001b[0;34m\u001b[0m\u001b[0m\n\u001b[1;32m      5\u001b[0m \u001b[0mnum_actions\u001b[0m \u001b[0;34m=\u001b[0m \u001b[0menv\u001b[0m\u001b[0;34m.\u001b[0m\u001b[0maction_space\u001b[0m\u001b[0;34m.\u001b[0m\u001b[0mshape\u001b[0m\u001b[0;34m[\u001b[0m\u001b[0;36m0\u001b[0m\u001b[0;34m]\u001b[0m\u001b[0;34m\u001b[0m\u001b[0;34m\u001b[0m\u001b[0m\n",
            "\u001b[0;32m~/Programmi/gym/gym/envs/registration.py\u001b[0m in \u001b[0;36mmake\u001b[0;34m(id, **kwargs)\u001b[0m\n\u001b[1;32m    143\u001b[0m \u001b[0;34m\u001b[0m\u001b[0m\n\u001b[1;32m    144\u001b[0m \u001b[0;32mdef\u001b[0m \u001b[0mmake\u001b[0m\u001b[0;34m(\u001b[0m\u001b[0mid\u001b[0m\u001b[0;34m,\u001b[0m \u001b[0;34m**\u001b[0m\u001b[0mkwargs\u001b[0m\u001b[0;34m)\u001b[0m\u001b[0;34m:\u001b[0m\u001b[0;34m\u001b[0m\u001b[0;34m\u001b[0m\u001b[0m\n\u001b[0;32m--> 145\u001b[0;31m     \u001b[0;32mreturn\u001b[0m \u001b[0mregistry\u001b[0m\u001b[0;34m.\u001b[0m\u001b[0mmake\u001b[0m\u001b[0;34m(\u001b[0m\u001b[0mid\u001b[0m\u001b[0;34m,\u001b[0m \u001b[0;34m**\u001b[0m\u001b[0mkwargs\u001b[0m\u001b[0;34m)\u001b[0m\u001b[0;34m\u001b[0m\u001b[0;34m\u001b[0m\u001b[0m\n\u001b[0m\u001b[1;32m    146\u001b[0m \u001b[0;34m\u001b[0m\u001b[0m\n\u001b[1;32m    147\u001b[0m \u001b[0;32mdef\u001b[0m \u001b[0mspec\u001b[0m\u001b[0;34m(\u001b[0m\u001b[0mid\u001b[0m\u001b[0;34m)\u001b[0m\u001b[0;34m:\u001b[0m\u001b[0;34m\u001b[0m\u001b[0;34m\u001b[0m\u001b[0m\n",
            "\u001b[0;32m~/Programmi/gym/gym/envs/registration.py\u001b[0m in \u001b[0;36mmake\u001b[0;34m(self, path, **kwargs)\u001b[0m\n\u001b[1;32m     88\u001b[0m             \u001b[0mlogger\u001b[0m\u001b[0;34m.\u001b[0m\u001b[0minfo\u001b[0m\u001b[0;34m(\u001b[0m\u001b[0;34m'Making new env: %s'\u001b[0m\u001b[0;34m,\u001b[0m \u001b[0mpath\u001b[0m\u001b[0;34m)\u001b[0m\u001b[0;34m\u001b[0m\u001b[0;34m\u001b[0m\u001b[0m\n\u001b[1;32m     89\u001b[0m         \u001b[0mspec\u001b[0m \u001b[0;34m=\u001b[0m \u001b[0mself\u001b[0m\u001b[0;34m.\u001b[0m\u001b[0mspec\u001b[0m\u001b[0;34m(\u001b[0m\u001b[0mpath\u001b[0m\u001b[0;34m)\u001b[0m\u001b[0;34m\u001b[0m\u001b[0;34m\u001b[0m\u001b[0m\n\u001b[0;32m---> 90\u001b[0;31m         \u001b[0menv\u001b[0m \u001b[0;34m=\u001b[0m \u001b[0mspec\u001b[0m\u001b[0;34m.\u001b[0m\u001b[0mmake\u001b[0m\u001b[0;34m(\u001b[0m\u001b[0;34m**\u001b[0m\u001b[0mkwargs\u001b[0m\u001b[0;34m)\u001b[0m\u001b[0;34m\u001b[0m\u001b[0;34m\u001b[0m\u001b[0m\n\u001b[0m\u001b[1;32m     91\u001b[0m         \u001b[0;31m# We used to have people override _reset/_step rather than\u001b[0m\u001b[0;34m\u001b[0m\u001b[0;34m\u001b[0m\u001b[0;34m\u001b[0m\u001b[0m\n\u001b[1;32m     92\u001b[0m         \u001b[0;31m# reset/step. Set _gym_disable_underscore_compat = True on\u001b[0m\u001b[0;34m\u001b[0m\u001b[0;34m\u001b[0m\u001b[0;34m\u001b[0m\u001b[0m\n",
            "\u001b[0;32m~/Programmi/gym/gym/envs/registration.py\u001b[0m in \u001b[0;36mmake\u001b[0;34m(self, **kwargs)\u001b[0m\n\u001b[1;32m     57\u001b[0m             \u001b[0menv\u001b[0m \u001b[0;34m=\u001b[0m \u001b[0mself\u001b[0m\u001b[0;34m.\u001b[0m\u001b[0mentry_point\u001b[0m\u001b[0;34m(\u001b[0m\u001b[0;34m**\u001b[0m\u001b[0m_kwargs\u001b[0m\u001b[0;34m)\u001b[0m\u001b[0;34m\u001b[0m\u001b[0;34m\u001b[0m\u001b[0m\n\u001b[1;32m     58\u001b[0m         \u001b[0;32melse\u001b[0m\u001b[0;34m:\u001b[0m\u001b[0;34m\u001b[0m\u001b[0;34m\u001b[0m\u001b[0m\n\u001b[0;32m---> 59\u001b[0;31m             \u001b[0mcls\u001b[0m \u001b[0;34m=\u001b[0m \u001b[0mload\u001b[0m\u001b[0;34m(\u001b[0m\u001b[0mself\u001b[0m\u001b[0;34m.\u001b[0m\u001b[0mentry_point\u001b[0m\u001b[0;34m)\u001b[0m\u001b[0;34m\u001b[0m\u001b[0;34m\u001b[0m\u001b[0m\n\u001b[0m\u001b[1;32m     60\u001b[0m             \u001b[0menv\u001b[0m \u001b[0;34m=\u001b[0m \u001b[0mcls\u001b[0m\u001b[0;34m(\u001b[0m\u001b[0;34m**\u001b[0m\u001b[0m_kwargs\u001b[0m\u001b[0;34m)\u001b[0m\u001b[0;34m\u001b[0m\u001b[0;34m\u001b[0m\u001b[0m\n\u001b[1;32m     61\u001b[0m \u001b[0;34m\u001b[0m\u001b[0m\n",
            "\u001b[0;32m~/Programmi/gym/gym/envs/registration.py\u001b[0m in \u001b[0;36mload\u001b[0;34m(name)\u001b[0m\n\u001b[1;32m     16\u001b[0m \u001b[0;32mdef\u001b[0m \u001b[0mload\u001b[0m\u001b[0;34m(\u001b[0m\u001b[0mname\u001b[0m\u001b[0;34m)\u001b[0m\u001b[0;34m:\u001b[0m\u001b[0;34m\u001b[0m\u001b[0;34m\u001b[0m\u001b[0m\n\u001b[1;32m     17\u001b[0m     \u001b[0mmod_name\u001b[0m\u001b[0;34m,\u001b[0m \u001b[0mattr_name\u001b[0m \u001b[0;34m=\u001b[0m \u001b[0mname\u001b[0m\u001b[0;34m.\u001b[0m\u001b[0msplit\u001b[0m\u001b[0;34m(\u001b[0m\u001b[0;34m\":\"\u001b[0m\u001b[0;34m)\u001b[0m\u001b[0;34m\u001b[0m\u001b[0;34m\u001b[0m\u001b[0m\n\u001b[0;32m---> 18\u001b[0;31m     \u001b[0mmod\u001b[0m \u001b[0;34m=\u001b[0m \u001b[0mimportlib\u001b[0m\u001b[0;34m.\u001b[0m\u001b[0mimport_module\u001b[0m\u001b[0;34m(\u001b[0m\u001b[0mmod_name\u001b[0m\u001b[0;34m)\u001b[0m\u001b[0;34m\u001b[0m\u001b[0;34m\u001b[0m\u001b[0m\n\u001b[0m\u001b[1;32m     19\u001b[0m     \u001b[0mfn\u001b[0m \u001b[0;34m=\u001b[0m \u001b[0mgetattr\u001b[0m\u001b[0;34m(\u001b[0m\u001b[0mmod\u001b[0m\u001b[0;34m,\u001b[0m \u001b[0mattr_name\u001b[0m\u001b[0;34m)\u001b[0m\u001b[0;34m\u001b[0m\u001b[0;34m\u001b[0m\u001b[0m\n\u001b[1;32m     20\u001b[0m     \u001b[0;32mreturn\u001b[0m \u001b[0mfn\u001b[0m\u001b[0;34m\u001b[0m\u001b[0;34m\u001b[0m\u001b[0m\n",
            "\u001b[0;32m/usr/lib/python3.8/importlib/__init__.py\u001b[0m in \u001b[0;36mimport_module\u001b[0;34m(name, package)\u001b[0m\n\u001b[1;32m    125\u001b[0m                 \u001b[0;32mbreak\u001b[0m\u001b[0;34m\u001b[0m\u001b[0;34m\u001b[0m\u001b[0m\n\u001b[1;32m    126\u001b[0m             \u001b[0mlevel\u001b[0m \u001b[0;34m+=\u001b[0m \u001b[0;36m1\u001b[0m\u001b[0;34m\u001b[0m\u001b[0;34m\u001b[0m\u001b[0m\n\u001b[0;32m--> 127\u001b[0;31m     \u001b[0;32mreturn\u001b[0m \u001b[0m_bootstrap\u001b[0m\u001b[0;34m.\u001b[0m\u001b[0m_gcd_import\u001b[0m\u001b[0;34m(\u001b[0m\u001b[0mname\u001b[0m\u001b[0;34m[\u001b[0m\u001b[0mlevel\u001b[0m\u001b[0;34m:\u001b[0m\u001b[0;34m]\u001b[0m\u001b[0;34m,\u001b[0m \u001b[0mpackage\u001b[0m\u001b[0;34m,\u001b[0m \u001b[0mlevel\u001b[0m\u001b[0;34m)\u001b[0m\u001b[0;34m\u001b[0m\u001b[0;34m\u001b[0m\u001b[0m\n\u001b[0m\u001b[1;32m    128\u001b[0m \u001b[0;34m\u001b[0m\u001b[0m\n\u001b[1;32m    129\u001b[0m \u001b[0;34m\u001b[0m\u001b[0m\n",
            "\u001b[0;32m/usr/lib/python3.8/importlib/_bootstrap.py\u001b[0m in \u001b[0;36m_gcd_import\u001b[0;34m(name, package, level)\u001b[0m\n",
            "\u001b[0;32m/usr/lib/python3.8/importlib/_bootstrap.py\u001b[0m in \u001b[0;36m_find_and_load\u001b[0;34m(name, import_)\u001b[0m\n",
            "\u001b[0;32m/usr/lib/python3.8/importlib/_bootstrap.py\u001b[0m in \u001b[0;36m_find_and_load_unlocked\u001b[0;34m(name, import_)\u001b[0m\n",
            "\u001b[0;32m/usr/lib/python3.8/importlib/_bootstrap.py\u001b[0m in \u001b[0;36m_load_unlocked\u001b[0;34m(spec)\u001b[0m\n",
            "\u001b[0;32m/usr/lib/python3.8/importlib/_bootstrap_external.py\u001b[0m in \u001b[0;36mexec_module\u001b[0;34m(self, module)\u001b[0m\n",
            "\u001b[0;32m/usr/lib/python3.8/importlib/_bootstrap.py\u001b[0m in \u001b[0;36m_call_with_frames_removed\u001b[0;34m(f, *args, **kwds)\u001b[0m\n",
            "\u001b[0;32m~/Programmi/gym/gym/envs/robotics/__init__.py\u001b[0m in \u001b[0;36m<module>\u001b[0;34m\u001b[0m\n\u001b[0;32m----> 1\u001b[0;31m \u001b[0;32mfrom\u001b[0m \u001b[0mgym\u001b[0m\u001b[0;34m.\u001b[0m\u001b[0menvs\u001b[0m\u001b[0;34m.\u001b[0m\u001b[0mrobotics\u001b[0m\u001b[0;34m.\u001b[0m\u001b[0mfetch_env\u001b[0m \u001b[0;32mimport\u001b[0m \u001b[0mFetchEnv\u001b[0m\u001b[0;34m\u001b[0m\u001b[0;34m\u001b[0m\u001b[0m\n\u001b[0m\u001b[1;32m      2\u001b[0m \u001b[0;32mfrom\u001b[0m \u001b[0mgym\u001b[0m\u001b[0;34m.\u001b[0m\u001b[0menvs\u001b[0m\u001b[0;34m.\u001b[0m\u001b[0mrobotics\u001b[0m\u001b[0;34m.\u001b[0m\u001b[0mfetch\u001b[0m\u001b[0;34m.\u001b[0m\u001b[0mslide\u001b[0m \u001b[0;32mimport\u001b[0m \u001b[0mFetchSlideEnv\u001b[0m\u001b[0;34m\u001b[0m\u001b[0;34m\u001b[0m\u001b[0m\n\u001b[1;32m      3\u001b[0m \u001b[0;32mfrom\u001b[0m \u001b[0mgym\u001b[0m\u001b[0;34m.\u001b[0m\u001b[0menvs\u001b[0m\u001b[0;34m.\u001b[0m\u001b[0mrobotics\u001b[0m\u001b[0;34m.\u001b[0m\u001b[0mfetch\u001b[0m\u001b[0;34m.\u001b[0m\u001b[0mpick_and_place\u001b[0m \u001b[0;32mimport\u001b[0m \u001b[0mFetchPickAndPlaceEnv\u001b[0m\u001b[0;34m\u001b[0m\u001b[0;34m\u001b[0m\u001b[0m\n\u001b[1;32m      4\u001b[0m \u001b[0;32mfrom\u001b[0m \u001b[0mgym\u001b[0m\u001b[0;34m.\u001b[0m\u001b[0menvs\u001b[0m\u001b[0;34m.\u001b[0m\u001b[0mrobotics\u001b[0m\u001b[0;34m.\u001b[0m\u001b[0mfetch\u001b[0m\u001b[0;34m.\u001b[0m\u001b[0mpush\u001b[0m \u001b[0;32mimport\u001b[0m \u001b[0mFetchPushEnv\u001b[0m\u001b[0;34m\u001b[0m\u001b[0;34m\u001b[0m\u001b[0m\n\u001b[1;32m      5\u001b[0m \u001b[0;32mfrom\u001b[0m \u001b[0mgym\u001b[0m\u001b[0;34m.\u001b[0m\u001b[0menvs\u001b[0m\u001b[0;34m.\u001b[0m\u001b[0mrobotics\u001b[0m\u001b[0;34m.\u001b[0m\u001b[0mfetch\u001b[0m\u001b[0;34m.\u001b[0m\u001b[0mreach\u001b[0m \u001b[0;32mimport\u001b[0m \u001b[0mFetchReachEnv\u001b[0m\u001b[0;34m\u001b[0m\u001b[0;34m\u001b[0m\u001b[0m\n",
            "\u001b[0;32m~/Programmi/gym/gym/envs/robotics/fetch_env.py\u001b[0m in \u001b[0;36m<module>\u001b[0;34m\u001b[0m\n\u001b[1;32m      1\u001b[0m \u001b[0;32mimport\u001b[0m \u001b[0mnumpy\u001b[0m \u001b[0;32mas\u001b[0m \u001b[0mnp\u001b[0m\u001b[0;34m\u001b[0m\u001b[0;34m\u001b[0m\u001b[0m\n\u001b[1;32m      2\u001b[0m \u001b[0;34m\u001b[0m\u001b[0m\n\u001b[0;32m----> 3\u001b[0;31m \u001b[0;32mfrom\u001b[0m \u001b[0mgym\u001b[0m\u001b[0;34m.\u001b[0m\u001b[0menvs\u001b[0m\u001b[0;34m.\u001b[0m\u001b[0mrobotics\u001b[0m \u001b[0;32mimport\u001b[0m \u001b[0mrotations\u001b[0m\u001b[0;34m,\u001b[0m \u001b[0mrobot_env\u001b[0m\u001b[0;34m,\u001b[0m \u001b[0mutils\u001b[0m\u001b[0;34m\u001b[0m\u001b[0;34m\u001b[0m\u001b[0m\n\u001b[0m\u001b[1;32m      4\u001b[0m \u001b[0;34m\u001b[0m\u001b[0m\n\u001b[1;32m      5\u001b[0m \u001b[0;34m\u001b[0m\u001b[0m\n",
            "\u001b[0;32m~/Programmi/gym/gym/envs/robotics/robot_env.py\u001b[0m in \u001b[0;36m<module>\u001b[0;34m\u001b[0m\n\u001b[1;32m      8\u001b[0m \u001b[0;34m\u001b[0m\u001b[0m\n\u001b[1;32m      9\u001b[0m \u001b[0;32mtry\u001b[0m\u001b[0;34m:\u001b[0m\u001b[0;34m\u001b[0m\u001b[0;34m\u001b[0m\u001b[0m\n\u001b[0;32m---> 10\u001b[0;31m     \u001b[0;32mimport\u001b[0m \u001b[0mmujoco_py\u001b[0m\u001b[0;34m\u001b[0m\u001b[0;34m\u001b[0m\u001b[0m\n\u001b[0m\u001b[1;32m     11\u001b[0m \u001b[0;32mexcept\u001b[0m \u001b[0mImportError\u001b[0m \u001b[0;32mas\u001b[0m \u001b[0me\u001b[0m\u001b[0;34m:\u001b[0m\u001b[0;34m\u001b[0m\u001b[0;34m\u001b[0m\u001b[0m\n\u001b[1;32m     12\u001b[0m     \u001b[0;32mraise\u001b[0m \u001b[0merror\u001b[0m\u001b[0;34m.\u001b[0m\u001b[0mDependencyNotInstalled\u001b[0m\u001b[0;34m(\u001b[0m\u001b[0;34m\"{}. (HINT: you need to install mujoco_py, and also perform the setup instructions here: https://github.com/openai/mujoco-py/.)\"\u001b[0m\u001b[0;34m.\u001b[0m\u001b[0mformat\u001b[0m\u001b[0;34m(\u001b[0m\u001b[0me\u001b[0m\u001b[0;34m)\u001b[0m\u001b[0;34m)\u001b[0m\u001b[0;34m\u001b[0m\u001b[0;34m\u001b[0m\u001b[0m\n",
            "\u001b[0;32m~/Programmi/mujoco-py-master/mujoco_py/__init__.py\u001b[0m in \u001b[0;36m<module>\u001b[0;34m\u001b[0m\n\u001b[1;32m      1\u001b[0m \u001b[0;31m#!/usr/bin/env python\u001b[0m\u001b[0;34m\u001b[0m\u001b[0;34m\u001b[0m\u001b[0;34m\u001b[0m\u001b[0m\n\u001b[1;32m      2\u001b[0m \u001b[0;32mimport\u001b[0m \u001b[0mos\u001b[0m\u001b[0;34m\u001b[0m\u001b[0;34m\u001b[0m\u001b[0m\n\u001b[0;32m----> 3\u001b[0;31m \u001b[0;32mfrom\u001b[0m \u001b[0mmujoco_py\u001b[0m\u001b[0;34m.\u001b[0m\u001b[0mbuilder\u001b[0m \u001b[0;32mimport\u001b[0m \u001b[0mcymj\u001b[0m\u001b[0;34m,\u001b[0m \u001b[0mignore_mujoco_warnings\u001b[0m\u001b[0;34m,\u001b[0m \u001b[0mfunctions\u001b[0m\u001b[0;34m,\u001b[0m \u001b[0mMujocoException\u001b[0m\u001b[0;34m\u001b[0m\u001b[0;34m\u001b[0m\u001b[0m\n\u001b[0m\u001b[1;32m      4\u001b[0m \u001b[0;32mfrom\u001b[0m \u001b[0mmujoco_py\u001b[0m\u001b[0;34m.\u001b[0m\u001b[0mgenerated\u001b[0m \u001b[0;32mimport\u001b[0m \u001b[0mconst\u001b[0m\u001b[0;34m\u001b[0m\u001b[0;34m\u001b[0m\u001b[0m\n\u001b[1;32m      5\u001b[0m \u001b[0;32mfrom\u001b[0m \u001b[0mmujoco_py\u001b[0m\u001b[0;34m.\u001b[0m\u001b[0mmjrenderpool\u001b[0m \u001b[0;32mimport\u001b[0m \u001b[0mMjRenderPool\u001b[0m\u001b[0;34m\u001b[0m\u001b[0;34m\u001b[0m\u001b[0m\n",
            "\u001b[0;32m~/Programmi/mujoco-py-master/mujoco_py/builder.py\u001b[0m in \u001b[0;36m<module>\u001b[0;34m\u001b[0m\n\u001b[1;32m    508\u001b[0m \u001b[0;34m\u001b[0m\u001b[0m\n\u001b[1;32m    509\u001b[0m \u001b[0mmujoco_path\u001b[0m\u001b[0;34m,\u001b[0m \u001b[0mkey_path\u001b[0m \u001b[0;34m=\u001b[0m \u001b[0mdiscover_mujoco\u001b[0m\u001b[0;34m(\u001b[0m\u001b[0;34m)\u001b[0m\u001b[0;34m\u001b[0m\u001b[0;34m\u001b[0m\u001b[0m\n\u001b[0;32m--> 510\u001b[0;31m \u001b[0mcymj\u001b[0m \u001b[0;34m=\u001b[0m \u001b[0mload_cython_ext\u001b[0m\u001b[0;34m(\u001b[0m\u001b[0mmujoco_path\u001b[0m\u001b[0;34m)\u001b[0m\u001b[0;34m\u001b[0m\u001b[0;34m\u001b[0m\u001b[0m\n\u001b[0m\u001b[1;32m    511\u001b[0m \u001b[0;34m\u001b[0m\u001b[0m\n\u001b[1;32m    512\u001b[0m \u001b[0;34m\u001b[0m\u001b[0m\n",
            "\u001b[0;32m~/Programmi/mujoco-py-master/mujoco_py/builder.py\u001b[0m in \u001b[0;36mload_cython_ext\u001b[0;34m(mujoco_path)\u001b[0m\n\u001b[1;32m     67\u001b[0m         \u001b[0mBuilder\u001b[0m \u001b[0;34m=\u001b[0m \u001b[0mMacExtensionBuilder\u001b[0m\u001b[0;34m\u001b[0m\u001b[0;34m\u001b[0m\u001b[0m\n\u001b[1;32m     68\u001b[0m     \u001b[0;32melif\u001b[0m \u001b[0msys\u001b[0m\u001b[0;34m.\u001b[0m\u001b[0mplatform\u001b[0m \u001b[0;34m==\u001b[0m \u001b[0;34m'linux'\u001b[0m\u001b[0;34m:\u001b[0m\u001b[0;34m\u001b[0m\u001b[0;34m\u001b[0m\u001b[0m\n\u001b[0;32m---> 69\u001b[0;31m         \u001b[0m_ensure_set_env_var\u001b[0m\u001b[0;34m(\u001b[0m\u001b[0;34m\"LD_LIBRARY_PATH\"\u001b[0m\u001b[0;34m,\u001b[0m \u001b[0mlib_path\u001b[0m\u001b[0;34m)\u001b[0m\u001b[0;34m\u001b[0m\u001b[0;34m\u001b[0m\u001b[0m\n\u001b[0m\u001b[1;32m     70\u001b[0m         \u001b[0;32mif\u001b[0m \u001b[0mos\u001b[0m\u001b[0;34m.\u001b[0m\u001b[0mgetenv\u001b[0m\u001b[0;34m(\u001b[0m\u001b[0;34m'MUJOCO_PY_FORCE_CPU'\u001b[0m\u001b[0;34m)\u001b[0m \u001b[0;32mis\u001b[0m \u001b[0;32mNone\u001b[0m \u001b[0;32mand\u001b[0m \u001b[0mget_nvidia_lib_dir\u001b[0m\u001b[0;34m(\u001b[0m\u001b[0;34m)\u001b[0m \u001b[0;32mis\u001b[0m \u001b[0;32mnot\u001b[0m \u001b[0;32mNone\u001b[0m\u001b[0;34m:\u001b[0m\u001b[0;34m\u001b[0m\u001b[0;34m\u001b[0m\u001b[0m\n\u001b[1;32m     71\u001b[0m             \u001b[0m_ensure_set_env_var\u001b[0m\u001b[0;34m(\u001b[0m\u001b[0;34m\"LD_LIBRARY_PATH\"\u001b[0m\u001b[0;34m,\u001b[0m \u001b[0mget_nvidia_lib_dir\u001b[0m\u001b[0;34m(\u001b[0m\u001b[0;34m)\u001b[0m\u001b[0;34m)\u001b[0m\u001b[0;34m\u001b[0m\u001b[0;34m\u001b[0m\u001b[0m\n",
            "\u001b[0;32m~/Programmi/mujoco-py-master/mujoco_py/builder.py\u001b[0m in \u001b[0;36m_ensure_set_env_var\u001b[0;34m(var_name, lib_path)\u001b[0m\n\u001b[1;32m    113\u001b[0m     \u001b[0mpaths\u001b[0m \u001b[0;34m=\u001b[0m \u001b[0;34m[\u001b[0m\u001b[0mos\u001b[0m\u001b[0;34m.\u001b[0m\u001b[0mpath\u001b[0m\u001b[0;34m.\u001b[0m\u001b[0mabspath\u001b[0m\u001b[0;34m(\u001b[0m\u001b[0mpath\u001b[0m\u001b[0;34m)\u001b[0m \u001b[0;32mfor\u001b[0m \u001b[0mpath\u001b[0m \u001b[0;32min\u001b[0m \u001b[0mpaths\u001b[0m\u001b[0;34m]\u001b[0m\u001b[0;34m\u001b[0m\u001b[0;34m\u001b[0m\u001b[0m\n\u001b[1;32m    114\u001b[0m     \u001b[0;32mif\u001b[0m \u001b[0mlib_path\u001b[0m \u001b[0;32mnot\u001b[0m \u001b[0;32min\u001b[0m \u001b[0mpaths\u001b[0m\u001b[0;34m:\u001b[0m\u001b[0;34m\u001b[0m\u001b[0;34m\u001b[0m\u001b[0m\n\u001b[0;32m--> 115\u001b[0;31m         raise Exception(\"\\nMissing path to your environment variable. \\n\"\n\u001b[0m\u001b[1;32m    116\u001b[0m                         \u001b[0;34m\"Current values %s=%s\\n\"\u001b[0m\u001b[0;34m\u001b[0m\u001b[0;34m\u001b[0m\u001b[0m\n\u001b[1;32m    117\u001b[0m                         \u001b[0;34m\"Please add following line to .bashrc:\\n\"\u001b[0m\u001b[0;34m\u001b[0m\u001b[0;34m\u001b[0m\u001b[0m\n",
            "\u001b[0;31mException\u001b[0m: \nMissing path to your environment variable. \nCurrent values LD_LIBRARY_PATH=\nPlease add following line to .bashrc:\nexport LD_LIBRARY_PATH=$LD_LIBRARY_PATH:/home/salvatore/.mujoco/mujoco200/bin"
          ]
        }
      ]
    },
    {
      "cell_type": "code",
      "execution_count": null,
      "metadata": {
        "tags": []
      },
      "outputs": [],
      "source": [
        "score_history = []\n",
        "for i in range(MAX_EPISODES):\n",
        "    env_dict = env.reset()\n",
        "    observation = env_dict['observation']\n",
        "    achieved_goal = env_dict['achieved_goal']\n",
        "    desired_goal  = env_dict['desired_goal']\n",
        "    done = False\n",
        "    score = 0\n",
        "\n",
        "    # print(\"Start Episode\",i,\" achieved_goal:\", achieved_goal)\n",
        "    # print(\"Start Episode\",i,\" desired_goal:\", desired_goal)\n",
        "    while not done:\n",
        "        # for t in range(MAX_TIMESTEPS):\n",
        "        act = agent.select_action(observation)\n",
        "        new_env_dict, reward, done, info = env.step(act)\n",
        "\n",
        "        new_state = new_env_dict['observation']\n",
        "        new_achieved_goal = new_env_dict['achieved_goal']\n",
        "        new_desired_goal  = new_env_dict['desired_goal']\n",
        "        \n",
        "\n",
        "    # for t in range(MAX_TIMESTEPS):\n",
        "\n",
        "        agent.save_transition(observation, act, reward, new_state, int(done))\n",
        "\n",
        "    # for n in range(NUM_UPDATES):\n",
        "        agent.learn()\n",
        "        score += reward\n",
        "        observation = new_state\n",
        "\n",
        "\n",
        "        if RENDER:\n",
        "            env.render()\n",
        "\n",
        "    env.close()\n",
        "    \n",
        "    # print(\"Finish Episode\",i,\" new_achieved_goal:\", new_achieved_goal)\n",
        "    # print(\"Finish Episode\",i,\" new_desired_goal:\", new_desired_goal)\n",
        "    score_history.append(score)\n",
        "\n",
        "    #if i % 25 == 0:\n",
        "    #    agent.save_models()\n",
        "\n",
        "    print('episode ', i, 'score %.2f' % score,\n",
        "          'trailing 100 games avg %.3f' % np.mean(score_history[-100:]))"
      ]
    },
    {
      "cell_type": "code",
      "execution_count": 12,
      "metadata": {},
      "outputs": [
        {
          "output_type": "display_data",
          "data": {
            "text/plain": "<Figure size 432x288 with 1 Axes>",
            "image/svg+xml": "<?xml version=\"1.0\" encoding=\"utf-8\" standalone=\"no\"?>\n<!DOCTYPE svg PUBLIC \"-//W3C//DTD SVG 1.1//EN\"\n  \"http://www.w3.org/Graphics/SVG/1.1/DTD/svg11.dtd\">\n<!-- Created with matplotlib (https://matplotlib.org/) -->\n<svg height=\"262.19625pt\" version=\"1.1\" viewBox=\"0 0 385.78125 262.19625\" width=\"385.78125pt\" xmlns=\"http://www.w3.org/2000/svg\" xmlns:xlink=\"http://www.w3.org/1999/xlink\">\n <defs>\n  <style type=\"text/css\">\n*{stroke-linecap:butt;stroke-linejoin:round;}\n  </style>\n </defs>\n <g id=\"figure_1\">\n  <g id=\"patch_1\">\n   <path d=\"M 0 262.19625 \nL 385.78125 262.19625 \nL 385.78125 0 \nL 0 0 \nz\n\" style=\"fill:none;\"/>\n  </g>\n  <g id=\"axes_1\">\n   <g id=\"patch_2\">\n    <path d=\"M 43.78125 224.64 \nL 378.58125 224.64 \nL 378.58125 7.2 \nL 43.78125 7.2 \nz\n\" style=\"fill:#ffffff;\"/>\n   </g>\n   <g id=\"matplotlib.axis_1\">\n    <g id=\"xtick_1\">\n     <g id=\"line2d_1\">\n      <defs>\n       <path d=\"M 0 0 \nL 0 3.5 \n\" id=\"mc6e2d04c00\" style=\"stroke:#000000;stroke-width:0.8;\"/>\n      </defs>\n      <g>\n       <use style=\"stroke:#000000;stroke-width:0.8;\" x=\"58.999432\" xlink:href=\"#mc6e2d04c00\" y=\"224.64\"/>\n      </g>\n     </g>\n     <g id=\"text_1\">\n      <!-- 0.0 -->\n      <defs>\n       <path d=\"M 31.78125 66.40625 \nQ 24.171875 66.40625 20.328125 58.90625 \nQ 16.5 51.421875 16.5 36.375 \nQ 16.5 21.390625 20.328125 13.890625 \nQ 24.171875 6.390625 31.78125 6.390625 \nQ 39.453125 6.390625 43.28125 13.890625 \nQ 47.125 21.390625 47.125 36.375 \nQ 47.125 51.421875 43.28125 58.90625 \nQ 39.453125 66.40625 31.78125 66.40625 \nz\nM 31.78125 74.21875 \nQ 44.046875 74.21875 50.515625 64.515625 \nQ 56.984375 54.828125 56.984375 36.375 \nQ 56.984375 17.96875 50.515625 8.265625 \nQ 44.046875 -1.421875 31.78125 -1.421875 \nQ 19.53125 -1.421875 13.0625 8.265625 \nQ 6.59375 17.96875 6.59375 36.375 \nQ 6.59375 54.828125 13.0625 64.515625 \nQ 19.53125 74.21875 31.78125 74.21875 \nz\n\" id=\"DejaVuSans-48\"/>\n       <path d=\"M 10.6875 12.40625 \nL 21 12.40625 \nL 21 0 \nL 10.6875 0 \nz\n\" id=\"DejaVuSans-46\"/>\n      </defs>\n      <g transform=\"translate(51.047869 239.238437)scale(0.1 -0.1)\">\n       <use xlink:href=\"#DejaVuSans-48\"/>\n       <use x=\"63.623047\" xlink:href=\"#DejaVuSans-46\"/>\n       <use x=\"95.410156\" xlink:href=\"#DejaVuSans-48\"/>\n      </g>\n     </g>\n    </g>\n    <g id=\"xtick_2\">\n     <g id=\"line2d_2\">\n      <g>\n       <use style=\"stroke:#000000;stroke-width:0.8;\" x=\"119.872159\" xlink:href=\"#mc6e2d04c00\" y=\"224.64\"/>\n      </g>\n     </g>\n     <g id=\"text_2\">\n      <!-- 0.2 -->\n      <defs>\n       <path d=\"M 19.1875 8.296875 \nL 53.609375 8.296875 \nL 53.609375 0 \nL 7.328125 0 \nL 7.328125 8.296875 \nQ 12.9375 14.109375 22.625 23.890625 \nQ 32.328125 33.6875 34.8125 36.53125 \nQ 39.546875 41.84375 41.421875 45.53125 \nQ 43.3125 49.21875 43.3125 52.78125 \nQ 43.3125 58.59375 39.234375 62.25 \nQ 35.15625 65.921875 28.609375 65.921875 \nQ 23.96875 65.921875 18.8125 64.3125 \nQ 13.671875 62.703125 7.8125 59.421875 \nL 7.8125 69.390625 \nQ 13.765625 71.78125 18.9375 73 \nQ 24.125 74.21875 28.421875 74.21875 \nQ 39.75 74.21875 46.484375 68.546875 \nQ 53.21875 62.890625 53.21875 53.421875 \nQ 53.21875 48.921875 51.53125 44.890625 \nQ 49.859375 40.875 45.40625 35.40625 \nQ 44.1875 33.984375 37.640625 27.21875 \nQ 31.109375 20.453125 19.1875 8.296875 \nz\n\" id=\"DejaVuSans-50\"/>\n      </defs>\n      <g transform=\"translate(111.920597 239.238437)scale(0.1 -0.1)\">\n       <use xlink:href=\"#DejaVuSans-48\"/>\n       <use x=\"63.623047\" xlink:href=\"#DejaVuSans-46\"/>\n       <use x=\"95.410156\" xlink:href=\"#DejaVuSans-50\"/>\n      </g>\n     </g>\n    </g>\n    <g id=\"xtick_3\">\n     <g id=\"line2d_3\">\n      <g>\n       <use style=\"stroke:#000000;stroke-width:0.8;\" x=\"180.744886\" xlink:href=\"#mc6e2d04c00\" y=\"224.64\"/>\n      </g>\n     </g>\n     <g id=\"text_3\">\n      <!-- 0.4 -->\n      <defs>\n       <path d=\"M 37.796875 64.3125 \nL 12.890625 25.390625 \nL 37.796875 25.390625 \nz\nM 35.203125 72.90625 \nL 47.609375 72.90625 \nL 47.609375 25.390625 \nL 58.015625 25.390625 \nL 58.015625 17.1875 \nL 47.609375 17.1875 \nL 47.609375 0 \nL 37.796875 0 \nL 37.796875 17.1875 \nL 4.890625 17.1875 \nL 4.890625 26.703125 \nz\n\" id=\"DejaVuSans-52\"/>\n      </defs>\n      <g transform=\"translate(172.793324 239.238437)scale(0.1 -0.1)\">\n       <use xlink:href=\"#DejaVuSans-48\"/>\n       <use x=\"63.623047\" xlink:href=\"#DejaVuSans-46\"/>\n       <use x=\"95.410156\" xlink:href=\"#DejaVuSans-52\"/>\n      </g>\n     </g>\n    </g>\n    <g id=\"xtick_4\">\n     <g id=\"line2d_4\">\n      <g>\n       <use style=\"stroke:#000000;stroke-width:0.8;\" x=\"241.617614\" xlink:href=\"#mc6e2d04c00\" y=\"224.64\"/>\n      </g>\n     </g>\n     <g id=\"text_4\">\n      <!-- 0.6 -->\n      <defs>\n       <path d=\"M 33.015625 40.375 \nQ 26.375 40.375 22.484375 35.828125 \nQ 18.609375 31.296875 18.609375 23.390625 \nQ 18.609375 15.53125 22.484375 10.953125 \nQ 26.375 6.390625 33.015625 6.390625 \nQ 39.65625 6.390625 43.53125 10.953125 \nQ 47.40625 15.53125 47.40625 23.390625 \nQ 47.40625 31.296875 43.53125 35.828125 \nQ 39.65625 40.375 33.015625 40.375 \nz\nM 52.59375 71.296875 \nL 52.59375 62.3125 \nQ 48.875 64.0625 45.09375 64.984375 \nQ 41.3125 65.921875 37.59375 65.921875 \nQ 27.828125 65.921875 22.671875 59.328125 \nQ 17.53125 52.734375 16.796875 39.40625 \nQ 19.671875 43.65625 24.015625 45.921875 \nQ 28.375 48.1875 33.59375 48.1875 \nQ 44.578125 48.1875 50.953125 41.515625 \nQ 57.328125 34.859375 57.328125 23.390625 \nQ 57.328125 12.15625 50.6875 5.359375 \nQ 44.046875 -1.421875 33.015625 -1.421875 \nQ 20.359375 -1.421875 13.671875 8.265625 \nQ 6.984375 17.96875 6.984375 36.375 \nQ 6.984375 53.65625 15.1875 63.9375 \nQ 23.390625 74.21875 37.203125 74.21875 \nQ 40.921875 74.21875 44.703125 73.484375 \nQ 48.484375 72.75 52.59375 71.296875 \nz\n\" id=\"DejaVuSans-54\"/>\n      </defs>\n      <g transform=\"translate(233.666051 239.238437)scale(0.1 -0.1)\">\n       <use xlink:href=\"#DejaVuSans-48\"/>\n       <use x=\"63.623047\" xlink:href=\"#DejaVuSans-46\"/>\n       <use x=\"95.410156\" xlink:href=\"#DejaVuSans-54\"/>\n      </g>\n     </g>\n    </g>\n    <g id=\"xtick_5\">\n     <g id=\"line2d_5\">\n      <g>\n       <use style=\"stroke:#000000;stroke-width:0.8;\" x=\"302.490341\" xlink:href=\"#mc6e2d04c00\" y=\"224.64\"/>\n      </g>\n     </g>\n     <g id=\"text_5\">\n      <!-- 0.8 -->\n      <defs>\n       <path d=\"M 31.78125 34.625 \nQ 24.75 34.625 20.71875 30.859375 \nQ 16.703125 27.09375 16.703125 20.515625 \nQ 16.703125 13.921875 20.71875 10.15625 \nQ 24.75 6.390625 31.78125 6.390625 \nQ 38.8125 6.390625 42.859375 10.171875 \nQ 46.921875 13.96875 46.921875 20.515625 \nQ 46.921875 27.09375 42.890625 30.859375 \nQ 38.875 34.625 31.78125 34.625 \nz\nM 21.921875 38.8125 \nQ 15.578125 40.375 12.03125 44.71875 \nQ 8.5 49.078125 8.5 55.328125 \nQ 8.5 64.0625 14.71875 69.140625 \nQ 20.953125 74.21875 31.78125 74.21875 \nQ 42.671875 74.21875 48.875 69.140625 \nQ 55.078125 64.0625 55.078125 55.328125 \nQ 55.078125 49.078125 51.53125 44.71875 \nQ 48 40.375 41.703125 38.8125 \nQ 48.828125 37.15625 52.796875 32.3125 \nQ 56.78125 27.484375 56.78125 20.515625 \nQ 56.78125 9.90625 50.3125 4.234375 \nQ 43.84375 -1.421875 31.78125 -1.421875 \nQ 19.734375 -1.421875 13.25 4.234375 \nQ 6.78125 9.90625 6.78125 20.515625 \nQ 6.78125 27.484375 10.78125 32.3125 \nQ 14.796875 37.15625 21.921875 38.8125 \nz\nM 18.3125 54.390625 \nQ 18.3125 48.734375 21.84375 45.5625 \nQ 25.390625 42.390625 31.78125 42.390625 \nQ 38.140625 42.390625 41.71875 45.5625 \nQ 45.3125 48.734375 45.3125 54.390625 \nQ 45.3125 60.0625 41.71875 63.234375 \nQ 38.140625 66.40625 31.78125 66.40625 \nQ 25.390625 66.40625 21.84375 63.234375 \nQ 18.3125 60.0625 18.3125 54.390625 \nz\n\" id=\"DejaVuSans-56\"/>\n      </defs>\n      <g transform=\"translate(294.538778 239.238437)scale(0.1 -0.1)\">\n       <use xlink:href=\"#DejaVuSans-48\"/>\n       <use x=\"63.623047\" xlink:href=\"#DejaVuSans-46\"/>\n       <use x=\"95.410156\" xlink:href=\"#DejaVuSans-56\"/>\n      </g>\n     </g>\n    </g>\n    <g id=\"xtick_6\">\n     <g id=\"line2d_6\">\n      <g>\n       <use style=\"stroke:#000000;stroke-width:0.8;\" x=\"363.363068\" xlink:href=\"#mc6e2d04c00\" y=\"224.64\"/>\n      </g>\n     </g>\n     <g id=\"text_6\">\n      <!-- 1.0 -->\n      <defs>\n       <path d=\"M 12.40625 8.296875 \nL 28.515625 8.296875 \nL 28.515625 63.921875 \nL 10.984375 60.40625 \nL 10.984375 69.390625 \nL 28.421875 72.90625 \nL 38.28125 72.90625 \nL 38.28125 8.296875 \nL 54.390625 8.296875 \nL 54.390625 0 \nL 12.40625 0 \nz\n\" id=\"DejaVuSans-49\"/>\n      </defs>\n      <g transform=\"translate(355.411506 239.238437)scale(0.1 -0.1)\">\n       <use xlink:href=\"#DejaVuSans-49\"/>\n       <use x=\"63.623047\" xlink:href=\"#DejaVuSans-46\"/>\n       <use x=\"95.410156\" xlink:href=\"#DejaVuSans-48\"/>\n      </g>\n     </g>\n    </g>\n    <g id=\"text_7\">\n     <!-- Game -->\n     <defs>\n      <path d=\"M 59.515625 10.40625 \nL 59.515625 29.984375 \nL 43.40625 29.984375 \nL 43.40625 38.09375 \nL 69.28125 38.09375 \nL 69.28125 6.78125 \nQ 63.578125 2.734375 56.6875 0.65625 \nQ 49.8125 -1.421875 42 -1.421875 \nQ 24.90625 -1.421875 15.25 8.5625 \nQ 5.609375 18.5625 5.609375 36.375 \nQ 5.609375 54.25 15.25 64.234375 \nQ 24.90625 74.21875 42 74.21875 \nQ 49.125 74.21875 55.546875 72.453125 \nQ 61.96875 70.703125 67.390625 67.28125 \nL 67.390625 56.78125 \nQ 61.921875 61.421875 55.765625 63.765625 \nQ 49.609375 66.109375 42.828125 66.109375 \nQ 29.4375 66.109375 22.71875 58.640625 \nQ 16.015625 51.171875 16.015625 36.375 \nQ 16.015625 21.625 22.71875 14.15625 \nQ 29.4375 6.6875 42.828125 6.6875 \nQ 48.046875 6.6875 52.140625 7.59375 \nQ 56.25 8.5 59.515625 10.40625 \nz\n\" id=\"DejaVuSans-71\"/>\n      <path d=\"M 34.28125 27.484375 \nQ 23.390625 27.484375 19.1875 25 \nQ 14.984375 22.515625 14.984375 16.5 \nQ 14.984375 11.71875 18.140625 8.90625 \nQ 21.296875 6.109375 26.703125 6.109375 \nQ 34.1875 6.109375 38.703125 11.40625 \nQ 43.21875 16.703125 43.21875 25.484375 \nL 43.21875 27.484375 \nz\nM 52.203125 31.203125 \nL 52.203125 0 \nL 43.21875 0 \nL 43.21875 8.296875 \nQ 40.140625 3.328125 35.546875 0.953125 \nQ 30.953125 -1.421875 24.3125 -1.421875 \nQ 15.921875 -1.421875 10.953125 3.296875 \nQ 6 8.015625 6 15.921875 \nQ 6 25.140625 12.171875 29.828125 \nQ 18.359375 34.515625 30.609375 34.515625 \nL 43.21875 34.515625 \nL 43.21875 35.40625 \nQ 43.21875 41.609375 39.140625 45 \nQ 35.0625 48.390625 27.6875 48.390625 \nQ 23 48.390625 18.546875 47.265625 \nQ 14.109375 46.140625 10.015625 43.890625 \nL 10.015625 52.203125 \nQ 14.9375 54.109375 19.578125 55.046875 \nQ 24.21875 56 28.609375 56 \nQ 40.484375 56 46.34375 49.84375 \nQ 52.203125 43.703125 52.203125 31.203125 \nz\n\" id=\"DejaVuSans-97\"/>\n      <path d=\"M 52 44.1875 \nQ 55.375 50.25 60.0625 53.125 \nQ 64.75 56 71.09375 56 \nQ 79.640625 56 84.28125 50.015625 \nQ 88.921875 44.046875 88.921875 33.015625 \nL 88.921875 0 \nL 79.890625 0 \nL 79.890625 32.71875 \nQ 79.890625 40.578125 77.09375 44.375 \nQ 74.3125 48.1875 68.609375 48.1875 \nQ 61.625 48.1875 57.5625 43.546875 \nQ 53.515625 38.921875 53.515625 30.90625 \nL 53.515625 0 \nL 44.484375 0 \nL 44.484375 32.71875 \nQ 44.484375 40.625 41.703125 44.40625 \nQ 38.921875 48.1875 33.109375 48.1875 \nQ 26.21875 48.1875 22.15625 43.53125 \nQ 18.109375 38.875 18.109375 30.90625 \nL 18.109375 0 \nL 9.078125 0 \nL 9.078125 54.6875 \nL 18.109375 54.6875 \nL 18.109375 46.1875 \nQ 21.1875 51.21875 25.484375 53.609375 \nQ 29.78125 56 35.6875 56 \nQ 41.65625 56 45.828125 52.96875 \nQ 50 49.953125 52 44.1875 \nz\n\" id=\"DejaVuSans-109\"/>\n      <path d=\"M 56.203125 29.59375 \nL 56.203125 25.203125 \nL 14.890625 25.203125 \nQ 15.484375 15.921875 20.484375 11.0625 \nQ 25.484375 6.203125 34.421875 6.203125 \nQ 39.59375 6.203125 44.453125 7.46875 \nQ 49.3125 8.734375 54.109375 11.28125 \nL 54.109375 2.78125 \nQ 49.265625 0.734375 44.1875 -0.34375 \nQ 39.109375 -1.421875 33.890625 -1.421875 \nQ 20.796875 -1.421875 13.15625 6.1875 \nQ 5.515625 13.8125 5.515625 26.8125 \nQ 5.515625 40.234375 12.765625 48.109375 \nQ 20.015625 56 32.328125 56 \nQ 43.359375 56 49.78125 48.890625 \nQ 56.203125 41.796875 56.203125 29.59375 \nz\nM 47.21875 32.234375 \nQ 47.125 39.59375 43.09375 43.984375 \nQ 39.0625 48.390625 32.421875 48.390625 \nQ 24.90625 48.390625 20.390625 44.140625 \nQ 15.875 39.890625 15.1875 32.171875 \nz\n\" id=\"DejaVuSans-101\"/>\n     </defs>\n     <g transform=\"translate(196.296094 252.916562)scale(0.1 -0.1)\">\n      <use xlink:href=\"#DejaVuSans-71\"/>\n      <use x=\"77.490234\" xlink:href=\"#DejaVuSans-97\"/>\n      <use x=\"138.769531\" xlink:href=\"#DejaVuSans-109\"/>\n      <use x=\"236.181641\" xlink:href=\"#DejaVuSans-101\"/>\n     </g>\n    </g>\n   </g>\n   <g id=\"matplotlib.axis_2\">\n    <g id=\"ytick_1\">\n     <g id=\"line2d_7\">\n      <defs>\n       <path d=\"M 0 0 \nL -3.5 0 \n\" id=\"m4dc88a2dd1\" style=\"stroke:#000000;stroke-width:0.8;\"/>\n      </defs>\n      <g>\n       <use style=\"stroke:#000000;stroke-width:0.8;\" x=\"43.78125\" xlink:href=\"#m4dc88a2dd1\" y=\"214.756364\"/>\n      </g>\n     </g>\n     <g id=\"text_8\">\n      <!-- 0.0 -->\n      <g transform=\"translate(20.878125 218.555582)scale(0.1 -0.1)\">\n       <use xlink:href=\"#DejaVuSans-48\"/>\n       <use x=\"63.623047\" xlink:href=\"#DejaVuSans-46\"/>\n       <use x=\"95.410156\" xlink:href=\"#DejaVuSans-48\"/>\n      </g>\n     </g>\n    </g>\n    <g id=\"ytick_2\">\n     <g id=\"line2d_8\">\n      <g>\n       <use style=\"stroke:#000000;stroke-width:0.8;\" x=\"43.78125\" xlink:href=\"#m4dc88a2dd1\" y=\"175.221818\"/>\n      </g>\n     </g>\n     <g id=\"text_9\">\n      <!-- 0.2 -->\n      <g transform=\"translate(20.878125 179.021037)scale(0.1 -0.1)\">\n       <use xlink:href=\"#DejaVuSans-48\"/>\n       <use x=\"63.623047\" xlink:href=\"#DejaVuSans-46\"/>\n       <use x=\"95.410156\" xlink:href=\"#DejaVuSans-50\"/>\n      </g>\n     </g>\n    </g>\n    <g id=\"ytick_3\">\n     <g id=\"line2d_9\">\n      <g>\n       <use style=\"stroke:#000000;stroke-width:0.8;\" x=\"43.78125\" xlink:href=\"#m4dc88a2dd1\" y=\"135.687273\"/>\n      </g>\n     </g>\n     <g id=\"text_10\">\n      <!-- 0.4 -->\n      <g transform=\"translate(20.878125 139.486491)scale(0.1 -0.1)\">\n       <use xlink:href=\"#DejaVuSans-48\"/>\n       <use x=\"63.623047\" xlink:href=\"#DejaVuSans-46\"/>\n       <use x=\"95.410156\" xlink:href=\"#DejaVuSans-52\"/>\n      </g>\n     </g>\n    </g>\n    <g id=\"ytick_4\">\n     <g id=\"line2d_10\">\n      <g>\n       <use style=\"stroke:#000000;stroke-width:0.8;\" x=\"43.78125\" xlink:href=\"#m4dc88a2dd1\" y=\"96.152727\"/>\n      </g>\n     </g>\n     <g id=\"text_11\">\n      <!-- 0.6 -->\n      <g transform=\"translate(20.878125 99.951946)scale(0.1 -0.1)\">\n       <use xlink:href=\"#DejaVuSans-48\"/>\n       <use x=\"63.623047\" xlink:href=\"#DejaVuSans-46\"/>\n       <use x=\"95.410156\" xlink:href=\"#DejaVuSans-54\"/>\n      </g>\n     </g>\n    </g>\n    <g id=\"ytick_5\">\n     <g id=\"line2d_11\">\n      <g>\n       <use style=\"stroke:#000000;stroke-width:0.8;\" x=\"43.78125\" xlink:href=\"#m4dc88a2dd1\" y=\"56.618182\"/>\n      </g>\n     </g>\n     <g id=\"text_12\">\n      <!-- 0.8 -->\n      <g transform=\"translate(20.878125 60.417401)scale(0.1 -0.1)\">\n       <use xlink:href=\"#DejaVuSans-48\"/>\n       <use x=\"63.623047\" xlink:href=\"#DejaVuSans-46\"/>\n       <use x=\"95.410156\" xlink:href=\"#DejaVuSans-56\"/>\n      </g>\n     </g>\n    </g>\n    <g id=\"ytick_6\">\n     <g id=\"line2d_12\">\n      <g>\n       <use style=\"stroke:#000000;stroke-width:0.8;\" x=\"43.78125\" xlink:href=\"#m4dc88a2dd1\" y=\"17.083636\"/>\n      </g>\n     </g>\n     <g id=\"text_13\">\n      <!-- 1.0 -->\n      <g transform=\"translate(20.878125 20.882855)scale(0.1 -0.1)\">\n       <use xlink:href=\"#DejaVuSans-49\"/>\n       <use x=\"63.623047\" xlink:href=\"#DejaVuSans-46\"/>\n       <use x=\"95.410156\" xlink:href=\"#DejaVuSans-48\"/>\n      </g>\n     </g>\n    </g>\n    <g id=\"text_14\">\n     <!-- Score -->\n     <defs>\n      <path d=\"M 53.515625 70.515625 \nL 53.515625 60.890625 \nQ 47.90625 63.578125 42.921875 64.890625 \nQ 37.9375 66.21875 33.296875 66.21875 \nQ 25.25 66.21875 20.875 63.09375 \nQ 16.5 59.96875 16.5 54.203125 \nQ 16.5 49.359375 19.40625 46.890625 \nQ 22.3125 44.4375 30.421875 42.921875 \nL 36.375 41.703125 \nQ 47.40625 39.59375 52.65625 34.296875 \nQ 57.90625 29 57.90625 20.125 \nQ 57.90625 9.515625 50.796875 4.046875 \nQ 43.703125 -1.421875 29.984375 -1.421875 \nQ 24.8125 -1.421875 18.96875 -0.25 \nQ 13.140625 0.921875 6.890625 3.21875 \nL 6.890625 13.375 \nQ 12.890625 10.015625 18.65625 8.296875 \nQ 24.421875 6.59375 29.984375 6.59375 \nQ 38.421875 6.59375 43.015625 9.90625 \nQ 47.609375 13.234375 47.609375 19.390625 \nQ 47.609375 24.75 44.3125 27.78125 \nQ 41.015625 30.8125 33.5 32.328125 \nL 27.484375 33.5 \nQ 16.453125 35.6875 11.515625 40.375 \nQ 6.59375 45.0625 6.59375 53.421875 \nQ 6.59375 63.09375 13.40625 68.65625 \nQ 20.21875 74.21875 32.171875 74.21875 \nQ 37.3125 74.21875 42.625 73.28125 \nQ 47.953125 72.359375 53.515625 70.515625 \nz\n\" id=\"DejaVuSans-83\"/>\n      <path d=\"M 48.78125 52.59375 \nL 48.78125 44.1875 \nQ 44.96875 46.296875 41.140625 47.34375 \nQ 37.3125 48.390625 33.40625 48.390625 \nQ 24.65625 48.390625 19.8125 42.84375 \nQ 14.984375 37.3125 14.984375 27.296875 \nQ 14.984375 17.28125 19.8125 11.734375 \nQ 24.65625 6.203125 33.40625 6.203125 \nQ 37.3125 6.203125 41.140625 7.25 \nQ 44.96875 8.296875 48.78125 10.40625 \nL 48.78125 2.09375 \nQ 45.015625 0.34375 40.984375 -0.53125 \nQ 36.96875 -1.421875 32.421875 -1.421875 \nQ 20.0625 -1.421875 12.78125 6.34375 \nQ 5.515625 14.109375 5.515625 27.296875 \nQ 5.515625 40.671875 12.859375 48.328125 \nQ 20.21875 56 33.015625 56 \nQ 37.15625 56 41.109375 55.140625 \nQ 45.0625 54.296875 48.78125 52.59375 \nz\n\" id=\"DejaVuSans-99\"/>\n      <path d=\"M 30.609375 48.390625 \nQ 23.390625 48.390625 19.1875 42.75 \nQ 14.984375 37.109375 14.984375 27.296875 \nQ 14.984375 17.484375 19.15625 11.84375 \nQ 23.34375 6.203125 30.609375 6.203125 \nQ 37.796875 6.203125 41.984375 11.859375 \nQ 46.1875 17.53125 46.1875 27.296875 \nQ 46.1875 37.015625 41.984375 42.703125 \nQ 37.796875 48.390625 30.609375 48.390625 \nz\nM 30.609375 56 \nQ 42.328125 56 49.015625 48.375 \nQ 55.71875 40.765625 55.71875 27.296875 \nQ 55.71875 13.875 49.015625 6.21875 \nQ 42.328125 -1.421875 30.609375 -1.421875 \nQ 18.84375 -1.421875 12.171875 6.21875 \nQ 5.515625 13.875 5.515625 27.296875 \nQ 5.515625 40.765625 12.171875 48.375 \nQ 18.84375 56 30.609375 56 \nz\n\" id=\"DejaVuSans-111\"/>\n      <path d=\"M 41.109375 46.296875 \nQ 39.59375 47.171875 37.8125 47.578125 \nQ 36.03125 48 33.890625 48 \nQ 26.265625 48 22.1875 43.046875 \nQ 18.109375 38.09375 18.109375 28.8125 \nL 18.109375 0 \nL 9.078125 0 \nL 9.078125 54.6875 \nL 18.109375 54.6875 \nL 18.109375 46.1875 \nQ 20.953125 51.171875 25.484375 53.578125 \nQ 30.03125 56 36.53125 56 \nQ 37.453125 56 38.578125 55.875 \nQ 39.703125 55.765625 41.0625 55.515625 \nz\n\" id=\"DejaVuSans-114\"/>\n     </defs>\n     <g transform=\"translate(14.798438 130.033281)rotate(-90)scale(0.1 -0.1)\">\n      <use xlink:href=\"#DejaVuSans-83\"/>\n      <use x=\"63.476562\" xlink:href=\"#DejaVuSans-99\"/>\n      <use x=\"118.457031\" xlink:href=\"#DejaVuSans-111\"/>\n      <use x=\"179.638672\" xlink:href=\"#DejaVuSans-114\"/>\n      <use x=\"220.720703\" xlink:href=\"#DejaVuSans-101\"/>\n     </g>\n    </g>\n   </g>\n   <g id=\"line2d_13\"/>\n   <g id=\"patch_3\">\n    <path d=\"M 43.78125 224.64 \nL 43.78125 7.2 \n\" style=\"fill:none;stroke:#000000;stroke-linecap:square;stroke-linejoin:miter;stroke-width:0.8;\"/>\n   </g>\n   <g id=\"patch_4\">\n    <path d=\"M 378.58125 224.64 \nL 378.58125 7.2 \n\" style=\"fill:none;stroke:#000000;stroke-linecap:square;stroke-linejoin:miter;stroke-width:0.8;\"/>\n   </g>\n   <g id=\"patch_5\">\n    <path d=\"M 43.78125 224.64 \nL 378.58125 224.64 \n\" style=\"fill:none;stroke:#000000;stroke-linecap:square;stroke-linejoin:miter;stroke-width:0.8;\"/>\n   </g>\n   <g id=\"patch_6\">\n    <path d=\"M 43.78125 7.2 \nL 378.58125 7.2 \n\" style=\"fill:none;stroke:#000000;stroke-linecap:square;stroke-linejoin:miter;stroke-width:0.8;\"/>\n   </g>\n  </g>\n </g>\n</svg>\n",
            "image/png": "[encoded data removed]"
          },
          "metadata": {
            "needs_background": "light"
          }
        }
      ],
      "source": [
        "filename = 'FetchPickAndPlace1.png'\n",
        "plotLearning(score_history, filename, window=100)"
      ]
    },
    {
      "source": [
        "# DDPG + HER Train"
      ],
      "cell_type": "markdown",
      "metadata": {}
    },
    {
      "cell_type": "code",
      "execution_count": 13,
      "metadata": {},
      "outputs": [
        {
          "output_type": "error",
          "ename": "SyntaxError",
          "evalue": "unexpected EOF while parsing (<ipython-input-13-d05406b1e803>, line 1)",
          "traceback": [
            "\u001b[0;36m  File \u001b[0;32m\"<ipython-input-13-d05406b1e803>\"\u001b[0;36m, line \u001b[0;32m1\u001b[0m\n\u001b[0;31m    def sample_goals(state):\u001b[0m\n\u001b[0m                            ^\u001b[0m\n\u001b[0;31mSyntaxError\u001b[0m\u001b[0;31m:\u001b[0m unexpected EOF while parsing\n"
          ]
        }
      ],
      "source": [
        "def sample_goals(state):\n"
      ]
    },
    {
      "cell_type": "code",
      "execution_count": null,
      "metadata": {},
      "outputs": [],
      "source": [
        "def compute_reward(achieved_goal, goal):\n",
        "    if norm achieved_goal, goal < tolerance:\n",
        "        reward = 0\n",
        "    else:\n",
        "        reward = 1\n"
      ]
    },
    {
      "cell_type": "code",
      "execution_count": 11,
      "metadata": {},
      "outputs": [
        {
          "output_type": "stream",
          "name": "stdout",
          "text": [
            "{'observation': array([ 1.34193265e+00,  7.49100375e-01,  5.34722720e-01,  1.37480448e+00,\n        8.95516720e-01,  4.24702091e-01,  3.28718331e-02,  1.46416345e-01,\n       -1.10020629e-01,  2.91834773e-06, -4.72661656e-08, -3.85214084e-07,\n        5.92637053e-07,  1.12208536e-13, -7.74656889e-06, -7.65027248e-08,\n        4.92570535e-05,  1.88857148e-07, -2.90549459e-07, -1.18156686e-18,\n        7.73934983e-06,  7.18103404e-08, -2.42928780e-06,  4.93607091e-07,\n        1.70999820e-07]), 'achieved_goal': array([1.37480448, 0.89551672, 0.42470209]), 'desired_goal': array([1.23442502, 0.87288161, 0.42469975])}\n"
          ]
        }
      ],
      "source": [
        "env_her = gym.make('FetchPickAndPlace-v1')\n",
        "env_her.reset()\n",
        "\n",
        "input_shape = env_her.observation_space['observation'].shape[0]\n",
        "num_actions = env_her.action_space.shape[0]\n",
        "agent_her = DDPG(input_shape, num_actions, env_her.action_space)\n",
        "\n",
        "print(env_her.reset())"
      ]
    },
    {
      "cell_type": "code",
      "execution_count": 12,
      "metadata": {},
      "outputs": [
        {
          "output_type": "stream",
          "name": "stdout",
          "text": [
            "reward is -1.0, substitute_reward is -0.0\n",
            "Creating window glfw\n",
            "reward is -1.0, substitute_reward is -0.0\n",
            "reward is -1.0, substitute_reward is -0.0\n",
            "reward is -1.0, substitute_reward is -0.0\n",
            "reward is -1.0, substitute_reward is -0.0\n",
            "reward is -1.0, substitute_reward is -0.0\n",
            "reward is -1.0, substitute_reward is -0.0\n",
            "reward is -1.0, substitute_reward is -0.0\n",
            "reward is -1.0, substitute_reward is -0.0\n",
            "reward is -1.0, substitute_reward is -0.0\n",
            "reward is -1.0, substitute_reward is -0.0\n",
            "reward is -1.0, substitute_reward is -0.0\n",
            "reward is -1.0, substitute_reward is -0.0\n",
            "reward is -1.0, substitute_reward is -0.0\n",
            "reward is -1.0, substitute_reward is -0.0\n",
            "reward is -1.0, substitute_reward is -0.0\n",
            "reward is -1.0, substitute_reward is -0.0\n",
            "reward is -1.0, substitute_reward is -0.0\n",
            "reward is -1.0, substitute_reward is -0.0\n",
            "reward is -1.0, substitute_reward is -0.0\n",
            "reward is -1.0, substitute_reward is -0.0\n",
            "reward is -1.0, substitute_reward is -0.0\n",
            "reward is -1.0, substitute_reward is -0.0\n",
            "reward is -1.0, substitute_reward is -0.0\n",
            "reward is -1.0, substitute_reward is -0.0\n",
            "reward is -1.0, substitute_reward is -0.0\n",
            "reward is -1.0, substitute_reward is -0.0\n",
            "reward is -1.0, substitute_reward is -0.0\n",
            "reward is -1.0, substitute_reward is -0.0\n",
            "reward is -1.0, substitute_reward is -0.0\n",
            "reward is -1.0, substitute_reward is -0.0\n",
            "reward is -1.0, substitute_reward is -0.0\n",
            "reward is -1.0, substitute_reward is -0.0\n",
            "reward is -1.0, substitute_reward is -0.0\n",
            "reward is -1.0, substitute_reward is -0.0\n",
            "reward is -1.0, substitute_reward is -0.0\n",
            "reward is -1.0, substitute_reward is -0.0\n",
            "reward is -1.0, substitute_reward is -0.0\n",
            "reward is -1.0, substitute_reward is -0.0\n",
            "reward is -1.0, substitute_reward is -0.0\n",
            "reward is -1.0, substitute_reward is -0.0\n",
            "reward is -1.0, substitute_reward is -0.0\n",
            "reward is -1.0, substitute_reward is -0.0\n",
            "reward is -1.0, substitute_reward is -0.0\n",
            "reward is -1.0, substitute_reward is -0.0\n",
            "reward is -1.0, substitute_reward is -0.0\n",
            "reward is -1.0, substitute_reward is -0.0\n",
            "reward is -1.0, substitute_reward is -0.0\n",
            "reward is -1.0, substitute_reward is -0.0\n",
            "reward is -1.0, substitute_reward is -0.0\n",
            "episode  0 score -50.00 trailing 100 games avg -50.000\n"
          ]
        }
      ],
      "source": [
        "score_history_her = []\n",
        "for i in range(1):\n",
        "    env_dict = env_her.reset()\n",
        "    observation = env_dict['observation']\n",
        "    achieved_goal = env_dict['achieved_goal']\n",
        "    desired_goal  = env_dict['desired_goal']\n",
        "    done = False\n",
        "    score = 0\n",
        "\n",
        "    # print(\"Start Episode\",i,\" achieved_goal:\", achieved_goal)\n",
        "    # print(\"Start Episode\",i,\" desired_goal:\", desired_goal)\n",
        "    while not done:\n",
        "        # env_previous = env_her # Save the environment before the action\n",
        "\n",
        "        act = agent_her.select_action(observation)\n",
        "        new_env_dict, reward, done, info = env_her.step(act)\n",
        "\n",
        "        # env_after_action = env_her # Save the environment after the performed action\n",
        "\n",
        "        new_state = new_env_dict['observation']\n",
        "        new_achieved_goal = new_env_dict['achieved_goal']\n",
        "        new_desired_goal  = new_env_dict['desired_goal']\n",
        "        \n",
        "        agent_her.save_transition(observation, act, reward, new_state, int(done))\n",
        "\n",
        "        # If we want, we can substitute a goal here and re-compute\n",
        "        # the reward. For instance, we can just pretend that the desired\n",
        "        # goal was what we achieved all along.\n",
        "        substitute_goal = new_env_dict['achieved_goal'].copy()\n",
        "        print(substitute_goal)\n",
        "        substitute_reward = env_her.compute_reward(new_env_dict['achieved_goal'], substitute_goal, info)\n",
        "        print('reward is {}, substitute_reward is {}'.format(reward, substitute_reward))\n",
        "\n",
        "        # extra_goals = sample_goals(i, trajectory)\n",
        "        # for extra_goal in extra_goals:\n",
        "        #     env = env_previous\n",
        "\n",
        "        #     extra_reward = compute_reward(observation, act, extra_goal)\n",
        "        #     agent_her.save_transition(extra_goal, obs, action, extra_reward, next_obs, done)\n",
        "            \n",
        "        #     env = env_after_action\n",
        "\n",
        "        agent_her.learn()\n",
        "        score += reward\n",
        "        observation = new_state\n",
        "\n",
        "\n",
        "        if RENDER:\n",
        "            env_her.render()\n",
        "\n",
        "\n",
        "    env.close()\n",
        "    \n",
        "    # print(\"Finish Episode\",i,\" new_achieved_goal:\", new_achieved_goal)\n",
        "    # print(\"Finish Episode\",i,\" new_desired_goal:\", new_desired_goal)\n",
        "    score_history_her.append(score)\n",
        "\n",
        "    #if i % 25 == 0:\n",
        "    #    agent_her.save_models()\n",
        "\n",
        "    print('episode ', i, 'score %.2f' % score,\n",
        "          'trailing 100 games avg %.3f' % np.mean(score_history_her[-100:]))\n",
        "          "
      ]
    },
    {
      "cell_type": "code",
      "execution_count": null,
      "metadata": {},
      "outputs": [],
      "source": [
        "filename_her = 'FetchPickAndPlace1HER.png'\n",
        "plotLearning(score_history_her, filename_her, window=100)"
      ]
    },
    {
      "source": [
        "# Test trained model"
      ],
      "cell_type": "markdown",
      "metadata": {}
    },
    {
      "cell_type": "code",
      "execution_count": null,
      "metadata": {},
      "outputs": [],
      "source": [
        "#Later to restore:\n",
        "model.load_state_dict(torch.load(filepath))\n",
        "model.eval()"
      ]
    }
  ]
}